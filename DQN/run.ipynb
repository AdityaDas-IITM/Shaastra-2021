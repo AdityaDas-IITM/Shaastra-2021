{
 "metadata": {
  "language_info": {
   "codemirror_mode": {
    "name": "ipython",
    "version": 3
   },
   "file_extension": ".py",
   "mimetype": "text/x-python",
   "name": "python",
   "nbconvert_exporter": "python",
   "pygments_lexer": "ipython3",
   "version": "3.8.5-final"
  },
  "orig_nbformat": 2,
  "kernelspec": {
   "name": "python3",
   "display_name": "Python 3.8.5 64-bit",
   "metadata": {
    "interpreter": {
     "hash": "31f2aee4e71d21fbe5cf8b01ff0e069b9275f58929596ceb00d14d90e3e16cd6"
    }
   }
  }
 },
 "nbformat": 4,
 "nbformat_minor": 2,
 "cells": [
  {
   "cell_type": "code",
   "execution_count": null,
   "metadata": {},
   "outputs": [],
   "source": [
    "#Run this cell if on colab\n",
    "!apt-get install build-essential zlib1g-dev libsdl2-dev libjpeg-dev \\\n",
    "nasm tar libbz2-dev libgtk2.0-dev cmake git libfluidsynth-dev libgme-dev \\\n",
    "libopenal-dev timidity libwildmidi-dev unzip libboost-all-dev\n",
    "\n",
    "!pip install vizdoom\n"
   ]
  },
  {
   "cell_type": "code",
   "execution_count": 8,
   "metadata": {},
   "outputs": [],
   "source": [
    "def make_vid(frames):\n",
    "    fourcc = cv2.VideoWriter_fourcc(*\"XVID\")\n",
    "    writer = cv2.VideoWriter('./gameplay.avi', fourcc, 25, (frames[0].shape[1], frames[0].shape[0]), True)\n",
    "    for frame in frames:\n",
    "        writer.write(frame)\n",
    "    writer.release()"
   ]
  },
  {
   "cell_type": "code",
   "execution_count": 2,
   "metadata": {},
   "outputs": [],
   "source": [
    "from vizdoom import *\n",
    "import random\n",
    "import time\n",
    "import cv2\n",
    "import numpy as np\n",
    "from model import Agent\n",
    "import torch"
   ]
  },
  {
   "cell_type": "code",
   "execution_count": 3,
   "metadata": {},
   "outputs": [],
   "source": [
    "def train(game, episodes, eps, eps_decay, agent, input_shape, max_rew = -1e3, resume = False, path = 'None'):\n",
    "    game.set_window_visible(False)\n",
    "    if resume:\n",
    "        agent.qnetwork_local.load_state_dict(torch.load(path))\n",
    "        agent.qnetwork_target.load_state_dict(torch.load(path))\n",
    "    game.init()\n",
    "    for i in range(episodes):\n",
    "        game.new_episode()\n",
    "        \n",
    "        while not game.is_episode_finished():\n",
    "            state = game.get_state().screen_buffer\n",
    "            state = np.transpose(state, axes = (1,2,0))\n",
    "            state = cv2.cvtColor(state, cv2.COLOR_BGR2GRAY)\n",
    "            state= cv2.resize(state, (input_shape, input_shape))\n",
    "            state= cv2.resize(state, (input_shape, input_shape))\n",
    "            state = np.expand_dims(state, axis=0)\n",
    "            \n",
    "            action = agent.get_action(state, eps)\n",
    "            reward = game.make_action(action)\n",
    "            done = 1 if game.is_episode_finished() else 0\n",
    "            if not done:\n",
    "                next_state = game.get_state().screen_buffer\n",
    "                next_state = np.transpose(next_state, axes = (1,2,0))\n",
    "                next_state = cv2.cvtColor(next_state, cv2.COLOR_BGR2GRAY)\n",
    "                next_state= cv2.resize(next_state, (input_shape, input_shape))\n",
    "                next_state = cv2.resize(next_state, (input_shape, input_shape))\n",
    "                next_state = np.expand_dims(next_state, axis=0)\n",
    "            else:\n",
    "                next_state = np.zeros((input_channels, input_shape, input_shape))\n",
    "\n",
    "            agent.step(state, action, reward, next_state, done)\n",
    "            state = next_state\n",
    "            eps*=eps_decay\n",
    "            # time.sleep(0.02)\n",
    "        total_rew = game.get_total_reward()  \n",
    "        print (f'Episode {i} Reward {total_rew}')\n",
    "        if total_rew >= max_rew:\n",
    "            max_rew = total_rew\n",
    "            torch.save(agent.qnetwork_local.state_dict(), './basic.pth')"
   ]
  },
  {
   "cell_type": "code",
   "execution_count": 4,
   "metadata": {},
   "outputs": [],
   "source": [
    "def infer(game, agent, episodes, path, arbit = False):\n",
    "    game.set_window_visible(False)\n",
    "    frames = []\n",
    "    game.init()\n",
    "    if not arbit:\n",
    "        agent.qnetwork_local.load_state_dict(torch.load(path))\n",
    "    for i in range(episodes):\n",
    "        game.new_episode()\n",
    "        \n",
    "        while not game.is_episode_finished():\n",
    "            state = game.get_state().screen_buffer\n",
    "            state = np.transpose(state, axes = (1,2,0))\n",
    "            frames+=[state]\n",
    "            state = cv2.cvtColor(state, cv2.COLOR_BGR2GRAY)\n",
    "            state= cv2.resize(state, (input_shape, input_shape))\n",
    "            state = np.expand_dims(state, axis=0)\n",
    "            \n",
    "            if not arbit:\n",
    "                action = agent.get_action(state, eps=0)\n",
    "            else:\n",
    "                action_idx = random.choice(range(action_size))\n",
    "                action = [0]*action_size\n",
    "                action[action_idx] = 1\n",
    "            reward = game.make_action(action)\n",
    "    \n",
    "    make_vid(frames)\n"
   ]
  },
  {
   "cell_type": "code",
   "execution_count": 6,
   "metadata": {},
   "outputs": [],
   "source": [
    "game = DoomGame()\n",
    "game.load_config(\"./scenarios/basic.cfg\")\n",
    "game.set_screen_format(ScreenFormat.CBCGCR)\n",
    "\n",
    "input_shape = 50\n",
    "input_channels = 1\n",
    "action_size = 3\n",
    "eps = 1\n",
    "eps_decay = 0.9\n",
    "agent = Agent(action_size, input_shape, input_channels)\n",
    "max_rew = -1e3\n",
    "episodes = 500\n",
    "\n",
    "\n"
   ]
  },
  {
   "cell_type": "code",
   "execution_count": null,
   "metadata": {},
   "outputs": [],
   "source": [
    "train(game, episodes, eps, eps_decay, agent, input_shape)"
   ]
  },
  {
   "cell_type": "code",
   "execution_count": 9,
   "metadata": {},
   "outputs": [],
   "source": [
    "infer(game, agent, episodes = 5, path = './checkpoints/basic.pth')"
   ]
  },
  {
   "cell_type": "code",
   "execution_count": null,
   "metadata": {},
   "outputs": [],
   "source": []
  }
 ]
}