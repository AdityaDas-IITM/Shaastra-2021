{
 "metadata": {
  "language_info": {
   "codemirror_mode": {
    "name": "ipython",
    "version": 3
   },
   "file_extension": ".py",
   "mimetype": "text/x-python",
   "name": "python",
   "nbconvert_exporter": "python",
   "pygments_lexer": "ipython3",
   "version": "3.8.5-final"
  },
  "orig_nbformat": 2,
  "kernelspec": {
   "name": "python3",
   "display_name": "Python 3.8.5 64-bit",
   "metadata": {
    "interpreter": {
     "hash": "31f2aee4e71d21fbe5cf8b01ff0e069b9275f58929596ceb00d14d90e3e16cd6"
    }
   }
  }
 },
 "nbformat": 4,
 "nbformat_minor": 2,
 "cells": [
  {
   "cell_type": "code",
   "execution_count": null,
   "metadata": {},
   "outputs": [],
   "source": [
    "from board import SnakeGame\n",
    "import random\n",
    "import numpy as np\n",
    "import cv2"
   ]
  },
  {
   "cell_type": "code",
   "execution_count": null,
   "metadata": {},
   "outputs": [],
   "source": [
    "game = SnakeGame((20, 20))\n",
    "states = 2**8 #[_ _ _ _ _ _ _ _]\n",
    "actions = 4\n",
    "\n",
    "best_q = None"
   ]
  },
  {
   "cell_type": "code",
   "execution_count": null,
   "metadata": {},
   "outputs": [],
   "source": [
    "'''\n",
    "states vary from [0,0,0,0,0,0,0,0] to [1,1,1,1,1,1,1,1] - notice binary nos\n",
    "so in the table the index of each state will be its decimal value = summation(2**i * state[i])\n",
    "'''\n",
    "def state_index(state):\n",
    "    val = 0\n",
    "    for i in range(8):\n",
    "        val += (2**i)*state[i]\n",
    "    return int(val)"
   ]
  },
  {
   "cell_type": "code",
   "execution_count": null,
   "metadata": {},
   "outputs": [],
   "source": [
    "def test(qtable, render = False, save_anim = False):\n",
    "    state = game.reset_board(save_frames = save_anim)\n",
    "    state = state_index(state)\n",
    "    done = False\n",
    "    for i in range(10000):\n",
    "        if render:\n",
    "            game.render()\n",
    "        action = np.argmax(qtable[state,:])\n",
    "        next_state, reward, done = game.step(action)\n",
    "        next_state = state_index(next_state)\n",
    "        if done:\n",
    "            break\n",
    "        \n",
    "        state = next_state\n",
    "        \n",
    "    if save_anim:\n",
    "        game.create_vid('./snake.mp4')\n",
    "    return game.pellets\n"
   ]
  },
  {
   "cell_type": "code",
   "execution_count": null,
   "metadata": {},
   "outputs": [],
   "source": [
    "def train():\n",
    "    max_pellets = 0\n",
    "    num_episodes = 5000\n",
    "    gamma = 0.9\n",
    "    eps = 0.2\n",
    "    lr = 0.2\n",
    "    qtable = np.zeros((states, actions))\n",
    "\n",
    "    for i in range(num_episodes):\n",
    "        state = game.reset_board(save_frames = False)\n",
    "        state = state_index(state)\n",
    "        done = False\n",
    "        for _ in range(10000):\n",
    "            #uncomment if you want to see training, warning:it will slow down training\n",
    "            #game.render()\n",
    "            if random.random() > eps:\n",
    "                action = np.argmax(qtable[state,:])\n",
    "            else:\n",
    "                action = random.choice(range(actions))\n",
    "            next_state, reward, done = game.step(action)\n",
    "            next_state = state_index(next_state)\n",
    "            \n",
    "            tderror = reward + (1-done)*gamma*np.max(qtable[next_state,:]) - qtable[state, action]\n",
    "            qtable[state,action] = qtable[state,action] + lr*tderror\n",
    "            state = next_state\n",
    "            if done:\n",
    "                break\n",
    "        if i%100 == 0:\n",
    "            pellets= test(qtable)\n",
    "            if pellets > max_pellets:\n",
    "                print(f\"Score : {pellets}\")\n",
    "                max_pellets = pellets\n",
    "                best_q = qtable\n",
    "    return qtable"
   ]
  },
  {
   "cell_type": "code",
   "execution_count": null,
   "metadata": {},
   "outputs": [],
   "source": [
    "qtable = train()\n",
    "print(\"Training done!!\")\n",
    "test(qtable, save_anim = True)\n",
    "print(\"Generated Video\")\n"
   ]
  },
  {
   "cell_type": "code",
   "execution_count": null,
   "metadata": {},
   "outputs": [],
   "source": []
  }
 ]
}